{
 "cells": [
  {
   "cell_type": "markdown",
   "source": [
    "# Árboles de Decisiones\n",
    "____________\n"
   ],
   "metadata": {
    "collapsed": false
   },
   "id": "b891af7e4bc522c3"
  },
  {
   "cell_type": "code",
   "execution_count": null,
   "outputs": [],
   "source": [
    "import math\n",
    "import warnings\n",
    "\n",
    "# Desactivar advertencias de FutureWarning\n",
    "warnings.filterwarnings(\"ignore\", category=FutureWarning)"
   ],
   "metadata": {
    "collapsed": false
   },
   "id": "ef419fb46200ac58"
  },
  {
   "cell_type": "markdown",
   "source": [
    "### Carga de datos"
   ],
   "metadata": {
    "collapsed": false
   },
   "id": "329785e2ff526286"
  },
  {
   "cell_type": "markdown",
   "source": [
    "#### Importation de las librerias basicas"
   ],
   "metadata": {
    "collapsed": false
   },
   "id": "e0ce3721a1a52a49"
  },
  {
   "cell_type": "code",
   "execution_count": null,
   "outputs": [],
   "source": [
    "import pandas as pd\n",
    "import matplotlib.pyplot as plt\n",
    "import seaborn as sns"
   ],
   "metadata": {
    "collapsed": false
   },
   "id": "4e3b2d513016683a"
  },
  {
   "cell_type": "code",
   "execution_count": null,
   "outputs": [],
   "source": [
    "# Carga el data set en una variable\n",
    "prestamos = pd.read_excel('../datos/prestamos_bancarios_alemanes_1994.xls')"
   ],
   "metadata": {
    "collapsed": false
   },
   "id": "4972075bd399aeb8"
  },
  {
   "cell_type": "markdown",
   "source": [
    "#### Exproracion de los datos"
   ],
   "metadata": {
    "collapsed": false
   },
   "id": "524f79c51335af40"
  },
  {
   "cell_type": "code",
   "execution_count": null,
   "outputs": [],
   "source": [
    "prestamos.head()"
   ],
   "metadata": {
    "collapsed": false
   },
   "id": "9c24ea084a1f7d66"
  },
  {
   "cell_type": "code",
   "execution_count": null,
   "outputs": [],
   "source": [
    "# Obtiene información de las filas y las columnas\n",
    "prestamos.info()\n",
    "total_registro = prestamos.shape[0]\n",
    "print(f'Total de registro en el dataset: {total_registro}')"
   ],
   "metadata": {
    "collapsed": false
   },
   "id": "5958b6028468819d"
  },
  {
   "cell_type": "code",
   "execution_count": null,
   "outputs": [],
   "source": [
    "prestamos.describe()"
   ],
   "metadata": {
    "collapsed": false
   },
   "id": "d8ee83a5089c9faf"
  },
  {
   "cell_type": "code",
   "execution_count": null,
   "outputs": [],
   "source": [
    "prestamos.isnull().sum()"
   ],
   "metadata": {
    "collapsed": false
   },
   "id": "68fb5b8ebb16b0e1"
  },
  {
   "cell_type": "markdown",
   "source": [
    "### Seleccion de las variables con las que vamos a trabajar"
   ],
   "metadata": {
    "collapsed": false
   },
   "id": "fe3b94114681499f"
  },
  {
   "cell_type": "code",
   "execution_count": null,
   "outputs": [],
   "source": [
    "categorias_elegidas = [\"Account Balance\",\"Duration of Credit (month)\", \"Payment Status of Previous Credit\", \"Purpose\", \"Sex & Marital Status\"]\n",
    "prestamos = prestamos[['Creditability'] + categorias_elegidas].copy()"
   ],
   "metadata": {
    "collapsed": false
   },
   "id": "99912c5cb8179d78"
  },
  {
   "cell_type": "markdown",
   "source": [
    "### Limpieza de datos\n",
    "* Se eliminan las filas con valores __NULL__\n",
    "* Eliminar los duplicados"
   ],
   "metadata": {
    "collapsed": false
   },
   "id": "3b645a7bbdc088e4"
  },
  {
   "cell_type": "code",
   "execution_count": null,
   "outputs": [],
   "source": [
    "prestamos = prestamos.dropna()\n",
    "prestamos.isnull().sum()"
   ],
   "metadata": {
    "collapsed": false
   },
   "id": "cbfbdbedc6ff115e"
  },
  {
   "cell_type": "code",
   "execution_count": null,
   "outputs": [],
   "source": [
    "# Elimina los datos duplicados\n",
    "prestamos.drop_duplicates(inplace=True)\n",
    "# Verificar las datos duplicados\n",
    "cantidad_duplicados = prestamos.duplicated().sum()\n",
    "print(f'Total de filas duplicadas: {cantidad_duplicados}')"
   ],
   "metadata": {
    "collapsed": false
   },
   "id": "cb078641c7014432"
  },
  {
   "cell_type": "code",
   "execution_count": null,
   "outputs": [],
   "source": [
    "prestamos.info()\n",
    "total_registros = prestamos.shape[0]\n",
    "print(f'Total de registro después de la limpeza: {total_registros}')"
   ],
   "metadata": {
    "collapsed": false
   },
   "id": "7ceb7d8d660407ee"
  },
  {
   "cell_type": "markdown",
   "source": [
    "### Matriz de correlacion"
   ],
   "metadata": {
    "collapsed": false
   },
   "id": "e274d2564e5acf76"
  },
  {
   "cell_type": "code",
   "execution_count": null,
   "outputs": [],
   "source": [
    "# Se crea la matriz\n",
    "matriz = prestamos.corr()\n",
    "\n",
    "# Gráfico de la matriz\n",
    "# tamaño de la figura\n",
    "plt.figure(figsize=(8,6))\n",
    "\n",
    "# Crea el mapa de calor\n",
    "sns.heatmap(matriz,annot=True, cmap='coolwarm',fmt='.2f')\n",
    "\n",
    "# Agregar Titulo y etiquetas\n",
    "plt.title('Matriz de correlaciones')\n",
    "plt.show()"
   ],
   "metadata": {
    "collapsed": false
   },
   "id": "a84e621634851e00"
  },
  {
   "cell_type": "markdown",
   "source": [
    "## Cuantificar la variables continuas\n",
    "1. Duration of credit month\n"
   ],
   "metadata": {
    "collapsed": false
   },
   "id": "595dcd17a7243833"
  },
  {
   "cell_type": "code",
   "execution_count": null,
   "outputs": [],
   "source": [
    "# Estadisticas descriptivas de las variables continuas\n",
    "\n",
    "estadistica_duration = prestamos['Duration of Credit (month)'].describe()\n",
    "\n",
    "print(estadistica_duration)"
   ],
   "metadata": {
    "collapsed": false
   },
   "id": "cc2d13d433fd5be5"
  },
  {
   "cell_type": "code",
   "execution_count": null,
   "outputs": [],
   "source": [
    "import pandas as pd\n",
    "\n",
    "def cuantificar_variable(dataframe, nombreVar, num_grupos=4):\n",
    "    # Ordenar el DataFrame según la columna a cuantificar\n",
    "    dataframe = dataframe.sort_values(by=nombreVar, ascending=True).reset_index(drop=True)\n",
    "    n = len(dataframe)\n",
    "    \n",
    "    # Calcular los límites de los cuartiles\n",
    "    cuartiles = [dataframe[nombreVar].quantile(i / num_grupos) for i in range(1, num_grupos)]\n",
    "    \n",
    "    for i in range(len(dataframe)):\n",
    "        for j, limite in enumerate(cuartiles):\n",
    "            if dataframe.at[i, nombreVar] <= limite:\n",
    "                dataframe.at[i, nombreVar] = j\n",
    "                break\n",
    "        else:\n",
    "            dataframe.at[i, nombreVar] = num_grupos - 1\n",
    "\n",
    "    return dataframe\n",
    "\n",
    "prestamos = cuantificar_variable(prestamos, 'Duration of Credit (month)',num_grupos=4)\n"
   ],
   "metadata": {
    "collapsed": false
   },
   "id": "8571db208ba70d23"
  },
  {
   "cell_type": "markdown",
   "source": [
    "#### Diagramas de cajas de las variables\n",
    "+ Creditability\n",
    "+ Account Balance  \n",
    "+ Duration of Credit (month)  \n",
    "+ Payment Status of Previous Credit\n",
    "+ Purpose \n",
    "+ Sex & Marital Status "
   ],
   "metadata": {
    "collapsed": false
   },
   "id": "aecf5209f3adde24"
  },
  {
   "cell_type": "code",
   "execution_count": null,
   "outputs": [],
   "source": [
    "# Creamos la figura\n",
    "plt.figure(figsize=(15,10))\n",
    "\n",
    "# Iteramos sobres la categorias elegidas y creamos un diagrama para cada una\n",
    "for i, variable in enumerate(categorias_elegidas,1):\n",
    "    plt.subplot(2,3,i) # Crea una cuadricula de 2x3\n",
    "    sns.boxplot(data=prestamos, y=variable, x='Creditability')\n",
    "    plt.title(f'Diagrama de caja de {variable}')\n",
    "# Ajustar los graficos\n",
    "plt.tight_layout()\n",
    "plt.show()"
   ],
   "metadata": {
    "collapsed": false
   },
   "id": "7b4a74d8bbfebc5f"
  },
  {
   "cell_type": "markdown",
   "source": [
    "## Division de los datos de entrenamientos, prueba y validacion\n",
    "* Conjunto de entrenamientos = 60%\n",
    "* Conjunto de validacion = 20%\n",
    "* Conjunto de test = 20%"
   ],
   "metadata": {
    "collapsed": false
   },
   "id": "42cbb3a483b25f75"
  },
  {
   "cell_type": "code",
   "execution_count": null,
   "outputs": [],
   "source": [
    "# Separa las características (X) y la variable objetivo (y)\n",
    "X = prestamos[['Account Balance', 'Duration of Credit (month)', 'Payment Status of Previous Credit', 'Purpose', 'Sex & Marital Status']]\n",
    "y = prestamos['Creditability']\n"
   ],
   "metadata": {
    "collapsed": false
   },
   "id": "9d2a428a82c4e004"
  },
  {
   "cell_type": "code",
   "execution_count": null,
   "outputs": [],
   "source": [
    "import numpy as np\n",
    "\n",
    "np.random.seed(42)\n",
    "\n",
    "# Define las proporciones para la division del los conjuntos\n",
    "ratios = [0.6,0.2,0.2] # 60% Entrenamiento, 20% validacion, 20% testeo\n",
    "\n",
    "#Calcular el tamaño de cada conjunto\n",
    "total_samples = len(X)\n",
    "sizes = [int(r * total_samples) for r in ratios]\n",
    "\n",
    "# General indices aleatorios\n",
    "random_indices = np.random.permutation(total_samples)\n",
    "\n",
    "#Division de los conjuntos\n",
    "X_train = X.iloc[random_indices[:sizes[0]]]\n",
    "X_val = X.iloc[random_indices[sizes[0]: sizes[0] + sizes[1]]]\n",
    "X_test = X.iloc[random_indices[sizes[0] + sizes[1]:]]\n",
    "\n",
    "y_train = y.iloc[random_indices[:sizes[0]]]\n",
    "y_val = y.iloc[random_indices[sizes[0]:sizes[0] + sizes[1]]]\n",
    "y_test = y.iloc[random_indices[sizes[0] + sizes[1]:]]\n",
    "\n",
    "print(\"Cantidad de datos en el conjunto de entrenamiento:\", X_train.shape[0])\n",
    "print(\"Cantidad de datos en el conjunto de validación:\", X_val.shape[0])\n",
    "print(\"Cantidad de datos en el conjunto de prueba:\", X_test.shape[0])\n"
   ],
   "metadata": {
    "collapsed": false
   },
   "id": "a8bbbd5949ee9222"
  },
  {
   "cell_type": "markdown",
   "source": [
    "# Creacion del modelo - ___ÁRBOL DE DECISION___"
   ],
   "metadata": {
    "collapsed": false
   },
   "id": "6b26f28f813366de"
  },
  {
   "cell_type": "markdown",
   "source": [
    "### Calcular al Entropía de Shannon para todo el conjunto de datos\n",
    " $$\\large H(S) = -p(S_{i'})\\log_2(p(S_{i'})) - p(No)\\log_2(p(No))$$ \n"
   ],
   "metadata": {
    "collapsed": false
   },
   "id": "5884c184b86b6899"
  },
  {
   "cell_type": "code",
   "execution_count": null,
   "outputs": [],
   "source": [
    "def entropia_shannon(data, target_atributo):\n",
    "    entropia = 0\n",
    "    total_records = len(data)\n",
    "    \n",
    "    unique_classes = data[target_atributo].unique()\n",
    "    \n",
    "    for unique_class in unique_classes:\n",
    "        class_records = data[data[target_atributo] == unique_class]\n",
    "        class_count = len(class_records)\n",
    "        probabilidad = class_count / total_records\n",
    "        entropia -= round(probabilidad * math.log2(probabilidad),4)\n",
    "    return entropia\n",
    "\n",
    "entropia = entropia_shannon(prestamos, 'Creditability')\n",
    "print(f' Calculo de la entropia del todo el conjunto de datos: {entropia}')"
   ],
   "metadata": {
    "collapsed": false
   },
   "id": "cabc69773ddf15a1"
  },
  {
   "cell_type": "markdown",
   "source": [
    "### Calculo de ___Ganancia___\n",
    "\n",
    "$$\\large G(S,A) = H(S) - ∑_{v\\in A} \\frac{|S_v|} ⋅ H(S_v)$$"
   ],
   "metadata": {
    "collapsed": false
   },
   "id": "81376670a9d43a27"
  },
  {
   "cell_type": "code",
   "execution_count": null,
   "outputs": [],
   "source": [
    "def calculo_ganancia(data,target_atributo, atributo):\n",
    "    # Calculamos la entropia inicial\n",
    "    entropia_s = entropia_shannon(data,target_atributo)\n",
    "    \n",
    "    # Obtener los valores unico del atributo\n",
    "    valores_unicos = data[atributo].unique()\n",
    "    \n",
    "    # Calculo de la suma ponderada de las entropias despues de la division\n",
    "    suma_entropia = 0\n",
    "    total_registro = len(data)\n",
    "    \n",
    "    for value in valores_unicos:\n",
    "        subset = data[data[atributo] == value]\n",
    "        subset_size = len(subset)\n",
    "        entropia_subset = entropia_shannon(subset,target_atributo)\n",
    "        suma_entropia += (subset_size / total_registro) * entropia_subset\n",
    "        \n",
    "    # Calculo de la ganancia\n",
    "    informacion_ganancia = entropia_s - suma_entropia\n",
    "    return informacion_ganancia\n",
    "\n",
    "# Calculamos la ganancia para todos los atributos\n",
    "for column in prestamos.columns[1:]: # Se excluye el atributo 'Creditability'\n",
    "    informacion_ganancia = calculo_ganancia(prestamos,'Creditability',column)\n",
    "    print(f'Ganancia de la informacion para la {column} : {informacion_ganancia}')"
   ],
   "metadata": {
    "collapsed": false
   },
   "id": "ca553ccd8663de98"
  },
  {
   "cell_type": "markdown",
   "source": [
    "## Seleccion de la Mejor Atributo\n"
   ],
   "metadata": {
    "collapsed": false
   },
   "id": "5b45b429a00d58a4"
  },
  {
   "cell_type": "code",
   "execution_count": null,
   "outputs": [],
   "source": [
    "atributos = prestamos.columns[1:]\n",
    "\n",
    "#Inicia las variables \n",
    "mejor_carateristica = None\n",
    "mejor_ganancia = -1 # inicia en valor muy bajo\n",
    "\n",
    "# Calcula la ganancia de informacion para cada atributo y encuentra al mejor\n",
    "for atributo in atributos:\n",
    "    ganancia = calculo_ganancia(prestamos, 'Creditability',atributo)\n",
    "    print(f'Ganancia de informacion para {atributo}: {ganancia}')\n",
    "    \n",
    "    if ganancia > mejor_ganancia:\n",
    "        mejor_ganancia = ganancia\n",
    "        mejor_carateristica = atributo\n",
    "\n",
    "print('\\n')    \n",
    "print(f'La mejor caracteristica para dividir es : {mejor_carateristica}  con una ganancia de {mejor_ganancia} ')"
   ],
   "metadata": {
    "collapsed": false
   },
   "id": "4b0d82d27aba17cd"
  },
  {
   "cell_type": "markdown",
   "source": [
    "## "
   ],
   "metadata": {
    "collapsed": false
   },
   "id": "f690fcf3de990d58"
  },
  {
   "cell_type": "code",
   "execution_count": null,
   "outputs": [],
   "source": [],
   "metadata": {
    "collapsed": false
   },
   "id": "14e9e4dc6c5e32e0"
  },
  {
   "cell_type": "markdown",
   "source": [],
   "metadata": {
    "collapsed": false
   },
   "id": "bc94684b65848f8a"
  }
 ],
 "metadata": {
  "kernelspec": {
   "display_name": "Python 3",
   "language": "python",
   "name": "python3"
  },
  "language_info": {
   "codemirror_mode": {
    "name": "ipython",
    "version": 2
   },
   "file_extension": ".py",
   "mimetype": "text/x-python",
   "name": "python",
   "nbconvert_exporter": "python",
   "pygments_lexer": "ipython2",
   "version": "2.7.6"
  }
 },
 "nbformat": 4,
 "nbformat_minor": 5
}

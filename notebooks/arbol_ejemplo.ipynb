{
 "cells": [
  {
   "cell_type": "code",
   "execution_count": 11,
   "outputs": [],
   "source": [
    "import pandas as pd\n",
    "import nbimporter\n",
    "from arboles_decisiones import  calculo_ganancia, entropia_shannon\n"
   ],
   "metadata": {
    "collapsed": false,
    "ExecuteTime": {
     "end_time": "2023-09-21T12:44:32.898848064Z",
     "start_time": "2023-09-21T12:44:32.811049516Z"
    }
   },
   "id": "17a51500cceb2abd"
  },
  {
   "cell_type": "code",
   "execution_count": 12,
   "id": "initial_id",
   "metadata": {
    "collapsed": true,
    "ExecuteTime": {
     "end_time": "2023-09-21T12:44:32.899517688Z",
     "start_time": "2023-09-21T12:44:32.853942637Z"
    }
   },
   "outputs": [
    {
     "name": "stdout",
     "output_type": "stream",
     "text": [
      "<class 'pandas.core.frame.DataFrame'>\n",
      "RangeIndex: 14 entries, 0 to 13\n",
      "Data columns (total 6 columns):\n",
      " #   Column       Non-Null Count  Dtype \n",
      "---  ------       --------------  ----- \n",
      " 0   Día          14 non-null     object\n",
      " 1   Pronóstico   14 non-null     object\n",
      " 2   Temperatura  14 non-null     object\n",
      " 3   Humedad      14 non-null     object\n",
      " 4   Viento       14 non-null     object\n",
      " 5   ¿Juega?      14 non-null     object\n",
      "dtypes: object(6)\n",
      "memory usage: 800.0+ bytes\n"
     ]
    }
   ],
   "source": [
    "data = pd.read_csv('../datos/dataset.csv')\n",
    "data.info()\n"
   ]
  },
  {
   "cell_type": "code",
   "execution_count": 13,
   "outputs": [
    {
     "name": "stdout",
     "output_type": "stream",
     "text": [
      "Ganancia de la informacion para la Pronóstico : 0.247\n",
      "Ganancia de la informacion para la Temperatura : 0.029\n",
      "Ganancia de la informacion para la Humedad : 0.152\n",
      "Ganancia de la informacion para la Viento : 0.048\n"
     ]
    }
   ],
   "source": [
    "for column in data.columns[1:-1]: # Se excluye el atributo 'Creditability'\n",
    "    informacion_ganancia = calculo_ganancia(data,'¿Juega?',column)\n",
    "    print(f'Ganancia de la informacion para la {column} : {round(informacion_ganancia,3)}')"
   ],
   "metadata": {
    "collapsed": false,
    "ExecuteTime": {
     "end_time": "2023-09-21T12:44:32.899852023Z",
     "start_time": "2023-09-21T12:44:32.854237609Z"
    }
   },
   "id": "2d43d143aa0cb5d9"
  },
  {
   "cell_type": "code",
   "execution_count": 14,
   "outputs": [
    {
     "data": {
      "text/plain": "0.9402999999999999"
     },
     "execution_count": 14,
     "metadata": {},
     "output_type": "execute_result"
    }
   ],
   "source": [
    "entropia_shannon(data,'¿Juega?')"
   ],
   "metadata": {
    "collapsed": false,
    "ExecuteTime": {
     "end_time": "2023-09-21T12:44:32.900081303Z",
     "start_time": "2023-09-21T12:44:32.856003454Z"
    }
   },
   "id": "6845c3bb1282d353"
  },
  {
   "cell_type": "code",
   "execution_count": 15,
   "outputs": [
    {
     "name": "stdout",
     "output_type": "stream",
     "text": [
      "Ganancia de la informacion para la Pronóstico : 0.247\n",
      "Ganancia de la informacion para la Temperatura : 0.029\n",
      "Ganancia de la informacion para la Humedad : 0.152\n",
      "Ganancia de la informacion para la Viento : 0.048\n"
     ]
    }
   ],
   "source": [
    "for column in data.columns[1:-1]: # Se excluye el atributo 'Creditability'\n",
    "    informacion_ganancia = calculo_ganancia(data,'¿Juega?',column)\n",
    "    print(f'Ganancia de la informacion para la {column} : {round(informacion_ganancia,3)}')"
   ],
   "metadata": {
    "collapsed": false,
    "ExecuteTime": {
     "end_time": "2023-09-21T12:44:32.992797215Z",
     "start_time": "2023-09-21T12:44:32.869223370Z"
    }
   },
   "id": "3f81a27ba95e3e70"
  },
  {
   "cell_type": "code",
   "execution_count": 15,
   "outputs": [],
   "source": [],
   "metadata": {
    "collapsed": false,
    "ExecuteTime": {
     "end_time": "2023-09-21T12:44:32.993121171Z",
     "start_time": "2023-09-21T12:44:32.920684970Z"
    }
   },
   "id": "cceb640f6d3f888"
  }
 ],
 "metadata": {
  "kernelspec": {
   "display_name": "Python 3",
   "language": "python",
   "name": "python3"
  },
  "language_info": {
   "codemirror_mode": {
    "name": "ipython",
    "version": 2
   },
   "file_extension": ".py",
   "mimetype": "text/x-python",
   "name": "python",
   "nbconvert_exporter": "python",
   "pygments_lexer": "ipython2",
   "version": "2.7.6"
  }
 },
 "nbformat": 4,
 "nbformat_minor": 5
}
